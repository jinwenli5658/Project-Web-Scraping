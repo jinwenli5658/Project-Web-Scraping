{
 "cells": [
  {
   "cell_type": "markdown",
   "metadata": {},
   "source": [
    "# Web Scraping IMDB Top 250"
   ]
  },
  {
   "cell_type": "markdown",
   "metadata": {},
   "source": [
    "### 1 - What is web scraping and web crawling？\n",
    "**Web scraping** is an automated program that queries a web server, requests data (usually in the form of HTML), and then parses that data to extract needed information. For example: Google Web Scraper, Content Aggregators, Price monitoring, Machine Learning Dataset. <br>\n",
    "\n",
    "**Web crawling** refers to downloading and storing the contents of a large number of websites, by following links in web pages. Web crawlers are called such because they crawl across the web. For example: Search Engine."
   ]
  },
  {
   "cell_type": "markdown",
   "metadata": {},
   "source": [
    "### 2 - HTML Introduction"
   ]
  },
  {
   "cell_type": "markdown",
   "metadata": {},
   "source": [
    "**2.1 What is HTML?**   \n",
    "-  HTML is the standard markup language for creating Web pages.\n",
    "-  HTML elements are the building blocks of HTML pages, which are represented by tags\n",
    "-  HTML tags label pieces of content such as \"heading\", \"paragraph\", \"table\", and so on\n",
    "-  Browsers do not display the HTML tags, but use them to render the content of the page"
   ]
  },
  {
   "cell_type": "markdown",
   "metadata": {},
   "source": [
    "**2.2 A Simple HTML Document**"
   ]
  },
  {
   "cell_type": "markdown",
   "metadata": {},
   "source": [
    "    <!DOCTYPE html>\n",
    "    <html>\n",
    "    <head>\n",
    "        <title>Page Title</title>\n",
    "    </head>\n",
    "    <body>\n",
    "        <h1>My First Heading</h1>\n",
    "        <p>My first paragraph.</p>\n",
    "    </body>\n",
    "    </html>\n",
    "    \n",
    "-  The <!DOCTYPE html> declaration defines this document to be HTML5      \n",
    "-  The < html> element is the root element of an HTML page   \n",
    "-  The < head> element contains meta information about the document   \n",
    "-  The < title> element specifies a title for the document  \n",
    "-  The < body> element contains the visible page content  \n",
    "-  The < h1> element defines a large heading  \n",
    "-  The < p> element defines a paragraph. HTML tags normally come in pairs like < p> and < /p>, forward slash"
   ]
  },
  {
   "cell_type": "markdown",
   "metadata": {},
   "source": [
    "### 3 - Scraping IMDB Top 250"
   ]
  },
  {
   "cell_type": "markdown",
   "metadata": {},
   "source": [
    "####  1 - Load Packages"
   ]
  },
  {
   "cell_type": "code",
   "execution_count": 1,
   "metadata": {},
   "outputs": [
    {
     "name": "stdout",
     "output_type": "stream",
     "text": [
      "Requests version: 2.22.0\n",
      "Beautiful Soup version: 4.8.0\n"
     ]
    }
   ],
   "source": [
    "import requests\n",
    "print('Requests version: ' + requests.__version__)\n",
    "\n",
    "import bs4\n",
    "print('Beautiful Soup version: ' + bs4.__version__)\n",
    "# HTML Parser Package\n",
    "from bs4 import BeautifulSoup"
   ]
  },
  {
   "cell_type": "markdown",
   "metadata": {},
   "source": [
    "####  2 - Load HTML Document"
   ]
  },
  {
   "cell_type": "code",
   "execution_count": 5,
   "metadata": {},
   "outputs": [],
   "source": [
    "# r = requests.get('https://www.imdb.com/chart/top')\n",
    "# page_html = r.text\n",
    "\n",
    "with open('source_code.txt', 'r') as myfile:\n",
    "    page_html = myfile.read().replace('\\n', '')"
   ]
  },
  {
   "cell_type": "code",
   "execution_count": 6,
   "metadata": {},
   "outputs": [
    {
     "data": {
      "text/plain": [
       "str"
      ]
     },
     "execution_count": 6,
     "metadata": {},
     "output_type": "execute_result"
    }
   ],
   "source": [
    "type(page_html)"
   ]
  },
  {
   "cell_type": "code",
   "execution_count": 7,
   "metadata": {},
   "outputs": [
    {
     "data": {
      "text/plain": [
       "'<!DOCTYPE html><html    xmlns:og=\"http://ogp.me/ns#\"    xmlns:fb=\"http://www.facebook.com/2008/fbml\">    <head>                 <meta charset=\"utf-8\">        <meta http-equiv=\"X-UA-Compatible\" content=\"IE=edge\">                            <meta name=\"apple-itunes-app\" content=\"app-id=342792525, app-argument=imdb:///?src=mdot\">            <style>                body#styleguide-v2 {                    background: no-repeat fixed center top #000;                }            </style>        <script '"
      ]
     },
     "execution_count": 7,
     "metadata": {},
     "output_type": "execute_result"
    }
   ],
   "source": [
    "# one string for the HTML code\n",
    "page_html[:500]"
   ]
  },
  {
   "cell_type": "markdown",
   "metadata": {},
   "source": [
    "#### 3 - Pass the HTML Content to BeautifulSoup and construct a tree (BS object) to parse"
   ]
  },
  {
   "cell_type": "code",
   "execution_count": 9,
   "metadata": {},
   "outputs": [],
   "source": [
    "page_soup = BeautifulSoup(page_html, \"html.parser\")"
   ]
  },
  {
   "cell_type": "markdown",
   "metadata": {},
   "source": [
    "#### 4 - Find all the tags inside the tree that include top 250 movies' information "
   ]
  },
  {
   "cell_type": "code",
   "execution_count": 13,
   "metadata": {},
   "outputs": [
    {
     "data": {
      "text/plain": [
       "250"
      ]
     },
     "execution_count": 13,
     "metadata": {},
     "output_type": "execute_result"
    }
   ],
   "source": [
    "movies = page_soup.find_all(name = \"tr\")\n",
    "len(movies)\n",
    "movies = movies[1:]\n",
    "len(movies)"
   ]
  },
  {
   "cell_type": "code",
   "execution_count": 21,
   "metadata": {},
   "outputs": [
    {
     "name": "stdout",
     "output_type": "stream",
     "text": [
      "Movie Name:The Shawshank Redemption\n",
      "Movie Year: 1994\n",
      "Movie Rating: 9.2\n",
      "Number of user ratings: 2239582\n"
     ]
    }
   ],
   "source": [
    "# Get movie name\n",
    "movie = movies[0]\n",
    "name = movie.find(name=\"td\",attrs={\"class\":\"titleColumn\"}).find(name=\"a\").string\n",
    "name = name.replace(\",\",\"|\").strip()\n",
    "print('Movie Name:'  + name)\n",
    "\n",
    "# Get movie year\n",
    "year = movie.find(name=\"td\",attrs={\"class\":\"titleColumn\"}).find(name=\"span\").string\n",
    "year = year.replace(\")\", \"\").replace(\"(\", \"\").strip()\n",
    "print('Movie Year: ' + year)\n",
    "\n",
    "# Get movie rating\n",
    "rating = movie.find(name=\"td\",attrs={\"class\":\"ratingColumn imdbRating\"}).find(name=\"strong\").string\n",
    "rating = rating.strip()\n",
    "print('Movie Rating: ' + rating)\n",
    "\n",
    "# Get number of user rating\n",
    "num_user_rating = movie.find(name=\"td\",attrs={\"class\":\"ratingColumn imdbRating\"})\\\n",
    "                       .find(name=\"strong\").attrs['title']\n",
    "num_user_rating = num_user_rating.split(\" \")[3].replace(\",\",\"\")\n",
    "print('Number of user ratings: ' + num_user_rating)"
   ]
  },
  {
   "cell_type": "markdown",
   "metadata": {},
   "source": [
    "#### 5 - Extract movie features and save data in a csv file"
   ]
  },
  {
   "cell_type": "code",
   "execution_count": 22,
   "metadata": {},
   "outputs": [
    {
     "data": {
      "text/plain": [
       "38"
      ]
     },
     "execution_count": 22,
     "metadata": {},
     "output_type": "execute_result"
    }
   ],
   "source": [
    "# create a file name: 'imdb_top_250.csv'\n",
    "filename = \"imdb_top_250.csv\"\n",
    "f = open(filename, \"w\", encoding='utf-8')\n",
    "headers = \"Rank,Name,Year,Rating,Num_user_rating\"\n",
    "\n",
    "# Write header in csv\n",
    "f.write(headers + '\\n')"
   ]
  },
  {
   "cell_type": "code",
   "execution_count": 23,
   "metadata": {},
   "outputs": [],
   "source": [
    "# Write data into csv file\n",
    "Rank = 0\n",
    "for movie in movies[1:251]:\n",
    "    \n",
    "    Rank = Rank + 1\n",
    "    \n",
    "    # Movie Name\n",
    "    Name = movie.find(name=\"td\",attrs={\"class\":\"titleColumn\"}).find(name=\"a\").string\n",
    "    Name = Name.replace(\",\",\"|\").strip()\n",
    "    \n",
    "    # Movie Year\n",
    "    Year = movie.find(name=\"td\",attrs={\"class\":\"titleColumn\"}).find(name=\"span\").string\n",
    "    Year = Year.replace(\")\", \"\").replace(\"(\", \"\").strip()\n",
    "    \n",
    "    # Movie Rating\n",
    "    Rating = movie.find(name=\"td\",attrs={\"class\":\"ratingColumn imdbRating\"}).find(name=\"strong\").string\n",
    "    Rating = Rating.strip()\n",
    "    \n",
    "    # Number of User Ratings\n",
    "    Num_user_rating = movie.find(name=\"td\",attrs={\"class\":\"ratingColumn imdbRating\"}).find(name=\"strong\").attrs['title']\n",
    "    Num_user_rating = Num_user_rating.split(\" \")[3].replace(\",\",\"\")\n",
    "    \n",
    "    f.write(str(Rank) + \",\" + Name + \",\" + Year + \",\" + Rating + \",\" + Num_user_rating + \"\\n\")"
   ]
  },
  {
   "cell_type": "code",
   "execution_count": 24,
   "metadata": {},
   "outputs": [],
   "source": [
    "f.close()"
   ]
  }
 ],
 "metadata": {
  "kernelspec": {
   "display_name": "Python 3",
   "language": "python",
   "name": "python3"
  },
  "language_info": {
   "codemirror_mode": {
    "name": "ipython",
    "version": 3
   },
   "file_extension": ".py",
   "mimetype": "text/x-python",
   "name": "python",
   "nbconvert_exporter": "python",
   "pygments_lexer": "ipython3",
   "version": "3.7.4"
  }
 },
 "nbformat": 4,
 "nbformat_minor": 2
}
